{
  "cells": [
    {
      "cell_type": "code",
      "execution_count": 1,
      "metadata": {
        "id": "nfv6HDmwprpO"
      },
      "outputs": [],
      "source": [
        "import pandas as pd\n",
        "import numpy as np"
      ]
    },
    {
      "cell_type": "markdown",
      "metadata": {
        "id": "xsJ0-iKJprpP"
      },
      "source": [
        "# **Estimativas de probabilidades**\n"
      ]
    },
    {
      "cell_type": "markdown",
      "metadata": {
        "id": "dREvE_9HprpP"
      },
      "source": [
        "## Leitura do conjunto de dados"
      ]
    },
    {
      "cell_type": "code",
      "execution_count": 2,
      "metadata": {
        "id": "CZBoL6W-prpP"
      },
      "outputs": [],
      "source": [
        "df_total = pd.read_csv(\"http://archive.ics.uci.edu/ml/machine-learning-databases/adult/adult.data\")\n"
      ]
    },
    {
      "cell_type": "code",
      "execution_count": 3,
      "metadata": {},
      "outputs": [],
      "source": [
        "#usado só pra evitar consumo massivo de processamento\n",
        "df = df_total"
      ]
    },
    {
      "cell_type": "code",
      "execution_count": 4,
      "metadata": {
        "id": "vaywff9jprpP"
      },
      "outputs": [],
      "source": [
        "df.columns = [\"age\",\"workclass\",\"finalweight\",\"education\",\n",
        "                 \"education-num\",\"martial-status\",\"occupation\",\n",
        "                 \"relationship\",\"race\",\"sex\",\"capital-gain\",\n",
        "                 \"capital-loss\",\"hours-per-week \",\"native-country\",\n",
        "                 \"income\"]\n",
        "\n",
        "for col in df.columns:\n",
        "    if df[col].dtype == object:\n",
        "        df[col] = df[col].str.strip()"
      ]
    },
    {
      "cell_type": "code",
      "execution_count": 5,
      "metadata": {
        "colab": {
          "base_uri": "https://localhost:8080/"
        },
        "id": "gMFqI7nwAqVF",
        "outputId": "66cb5aaa-0dfa-4ac6-d195-ac6de9f6c4fb"
      },
      "outputs": [
        {
          "name": "stdout",
          "output_type": "stream",
          "text": [
            "<class 'pandas.core.frame.DataFrame'>\n",
            "RangeIndex: 32560 entries, 0 to 32559\n",
            "Data columns (total 15 columns):\n",
            " #   Column           Non-Null Count  Dtype \n",
            "---  ------           --------------  ----- \n",
            " 0   age              32560 non-null  int64 \n",
            " 1   workclass        32560 non-null  object\n",
            " 2   finalweight      32560 non-null  int64 \n",
            " 3   education        32560 non-null  object\n",
            " 4   education-num    32560 non-null  int64 \n",
            " 5   martial-status   32560 non-null  object\n",
            " 6   occupation       32560 non-null  object\n",
            " 7   relationship     32560 non-null  object\n",
            " 8   race             32560 non-null  object\n",
            " 9   sex              32560 non-null  object\n",
            " 10  capital-gain     32560 non-null  int64 \n",
            " 11  capital-loss     32560 non-null  int64 \n",
            " 12  hours-per-week   32560 non-null  int64 \n",
            " 13  native-country   32560 non-null  object\n",
            " 14  income           32560 non-null  object\n",
            "dtypes: int64(6), object(9)\n",
            "memory usage: 3.7+ MB\n"
          ]
        }
      ],
      "source": [
        "df.info()"
      ]
    },
    {
      "cell_type": "code",
      "execution_count": 6,
      "metadata": {
        "colab": {
          "base_uri": "https://localhost:8080/",
          "height": 206
        },
        "id": "kK0sFoeYAp5G",
        "outputId": "3cb9175d-89d5-48d0-d93e-4646f84d93c6"
      },
      "outputs": [
        {
          "data": {
            "text/html": [
              "<div>\n",
              "<style scoped>\n",
              "    .dataframe tbody tr th:only-of-type {\n",
              "        vertical-align: middle;\n",
              "    }\n",
              "\n",
              "    .dataframe tbody tr th {\n",
              "        vertical-align: top;\n",
              "    }\n",
              "\n",
              "    .dataframe thead th {\n",
              "        text-align: right;\n",
              "    }\n",
              "</style>\n",
              "<table border=\"1\" class=\"dataframe\">\n",
              "  <thead>\n",
              "    <tr style=\"text-align: right;\">\n",
              "      <th></th>\n",
              "      <th>age</th>\n",
              "      <th>workclass</th>\n",
              "      <th>finalweight</th>\n",
              "      <th>education</th>\n",
              "      <th>education-num</th>\n",
              "      <th>martial-status</th>\n",
              "      <th>occupation</th>\n",
              "      <th>relationship</th>\n",
              "      <th>race</th>\n",
              "      <th>sex</th>\n",
              "      <th>capital-gain</th>\n",
              "      <th>capital-loss</th>\n",
              "      <th>hours-per-week</th>\n",
              "      <th>native-country</th>\n",
              "      <th>income</th>\n",
              "    </tr>\n",
              "  </thead>\n",
              "  <tbody>\n",
              "    <tr>\n",
              "      <th>0</th>\n",
              "      <td>50</td>\n",
              "      <td>Self-emp-not-inc</td>\n",
              "      <td>83311</td>\n",
              "      <td>Bachelors</td>\n",
              "      <td>13</td>\n",
              "      <td>Married-civ-spouse</td>\n",
              "      <td>Exec-managerial</td>\n",
              "      <td>Husband</td>\n",
              "      <td>White</td>\n",
              "      <td>Male</td>\n",
              "      <td>0</td>\n",
              "      <td>0</td>\n",
              "      <td>13</td>\n",
              "      <td>United-States</td>\n",
              "      <td>&lt;=50K</td>\n",
              "    </tr>\n",
              "    <tr>\n",
              "      <th>1</th>\n",
              "      <td>38</td>\n",
              "      <td>Private</td>\n",
              "      <td>215646</td>\n",
              "      <td>HS-grad</td>\n",
              "      <td>9</td>\n",
              "      <td>Divorced</td>\n",
              "      <td>Handlers-cleaners</td>\n",
              "      <td>Not-in-family</td>\n",
              "      <td>White</td>\n",
              "      <td>Male</td>\n",
              "      <td>0</td>\n",
              "      <td>0</td>\n",
              "      <td>40</td>\n",
              "      <td>United-States</td>\n",
              "      <td>&lt;=50K</td>\n",
              "    </tr>\n",
              "    <tr>\n",
              "      <th>2</th>\n",
              "      <td>53</td>\n",
              "      <td>Private</td>\n",
              "      <td>234721</td>\n",
              "      <td>11th</td>\n",
              "      <td>7</td>\n",
              "      <td>Married-civ-spouse</td>\n",
              "      <td>Handlers-cleaners</td>\n",
              "      <td>Husband</td>\n",
              "      <td>Black</td>\n",
              "      <td>Male</td>\n",
              "      <td>0</td>\n",
              "      <td>0</td>\n",
              "      <td>40</td>\n",
              "      <td>United-States</td>\n",
              "      <td>&lt;=50K</td>\n",
              "    </tr>\n",
              "    <tr>\n",
              "      <th>3</th>\n",
              "      <td>28</td>\n",
              "      <td>Private</td>\n",
              "      <td>338409</td>\n",
              "      <td>Bachelors</td>\n",
              "      <td>13</td>\n",
              "      <td>Married-civ-spouse</td>\n",
              "      <td>Prof-specialty</td>\n",
              "      <td>Wife</td>\n",
              "      <td>Black</td>\n",
              "      <td>Female</td>\n",
              "      <td>0</td>\n",
              "      <td>0</td>\n",
              "      <td>40</td>\n",
              "      <td>Cuba</td>\n",
              "      <td>&lt;=50K</td>\n",
              "    </tr>\n",
              "    <tr>\n",
              "      <th>4</th>\n",
              "      <td>37</td>\n",
              "      <td>Private</td>\n",
              "      <td>284582</td>\n",
              "      <td>Masters</td>\n",
              "      <td>14</td>\n",
              "      <td>Married-civ-spouse</td>\n",
              "      <td>Exec-managerial</td>\n",
              "      <td>Wife</td>\n",
              "      <td>White</td>\n",
              "      <td>Female</td>\n",
              "      <td>0</td>\n",
              "      <td>0</td>\n",
              "      <td>40</td>\n",
              "      <td>United-States</td>\n",
              "      <td>&lt;=50K</td>\n",
              "    </tr>\n",
              "  </tbody>\n",
              "</table>\n",
              "</div>"
            ],
            "text/plain": [
              "   age         workclass  finalweight  education  education-num  \\\n",
              "0   50  Self-emp-not-inc        83311  Bachelors             13   \n",
              "1   38           Private       215646    HS-grad              9   \n",
              "2   53           Private       234721       11th              7   \n",
              "3   28           Private       338409  Bachelors             13   \n",
              "4   37           Private       284582    Masters             14   \n",
              "\n",
              "       martial-status         occupation   relationship   race     sex  \\\n",
              "0  Married-civ-spouse    Exec-managerial        Husband  White    Male   \n",
              "1            Divorced  Handlers-cleaners  Not-in-family  White    Male   \n",
              "2  Married-civ-spouse  Handlers-cleaners        Husband  Black    Male   \n",
              "3  Married-civ-spouse     Prof-specialty           Wife  Black  Female   \n",
              "4  Married-civ-spouse    Exec-managerial           Wife  White  Female   \n",
              "\n",
              "   capital-gain  capital-loss  hours-per-week  native-country income  \n",
              "0             0             0               13  United-States  <=50K  \n",
              "1             0             0               40  United-States  <=50K  \n",
              "2             0             0               40  United-States  <=50K  \n",
              "3             0             0               40           Cuba  <=50K  \n",
              "4             0             0               40  United-States  <=50K  "
            ]
          },
          "execution_count": 6,
          "metadata": {},
          "output_type": "execute_result"
        }
      ],
      "source": [
        "df.head()"
      ]
    },
    {
      "cell_type": "markdown",
      "metadata": {
        "id": "8oHGQhSVr-xa"
      },
      "source": [
        "###  Probabilidade de uma pessoa ter mais de 80 anos (ou seja, Age > 80).\n",
        "\n",
        "$$\n",
        "\\Pr(\\text{Age > 80})\n",
        "$$"
      ]
    },
    {
      "cell_type": "code",
      "execution_count": 7,
      "metadata": {
        "colab": {
          "base_uri": "https://localhost:8080/"
        },
        "id": "F_kgc7HOsEAS",
        "outputId": "b500ba75-620d-4f62-b9aa-7e125e170d87"
      },
      "outputs": [
        {
          "name": "stdout",
          "output_type": "stream",
          "text": [
            "Probabilidade de uma pessoa ter mais de 80 anos: 0.0030405405405405407\n"
          ]
        }
      ],
      "source": [
        "res = df[df.age > 80]\n",
        "idadeMaior80 = len(res)\n",
        "tamanho_espaco_amostral = len(df)\n",
        "print(f\"Probabilidade de uma pessoa ter mais de 80 anos: {idadeMaior80/tamanho_espaco_amostral}\")"
      ]
    },
    {
      "cell_type": "markdown",
      "metadata": {
        "id": "lCglYph6prpR"
      },
      "source": [
        "###  Probabilidade de uma pessoa ter mais de 80 anos (ou seja, Age > 80) dado que tem Salary > 50000.\n",
        "\n",
        "$$\n",
        "\\Pr(\\text{Age > 80} \\mid \\text{Salary > 50000})\n",
        "$$"
      ]
    },
    {
      "cell_type": "code",
      "execution_count": 8,
      "metadata": {
        "colab": {
          "base_uri": "https://localhost:8080/"
        },
        "id": "dD0H5SSoprpR",
        "outputId": "9fbb256a-aae2-4753-8104-ca42557c4015"
      },
      "outputs": [
        {
          "name": "stdout",
          "output_type": "stream",
          "text": [
            "Probabilidade de uma pessoa ter mais de 80 anos dado que tem Salary > 50000 é de 0.0017854865450835354\n"
          ]
        }
      ],
      "source": [
        "res = df[df.income == '>50K']\n",
        "salarioMaior50k = len(res)\n",
        "idadeMaior80 = len(res[res['age'] > 80])\n",
        "print(f\"Probabilidade de uma pessoa ter mais de 80 anos dado que tem Salary > 50000 é de {idadeMaior80/salarioMaior50k}\")"
      ]
    },
    {
      "cell_type": "markdown",
      "metadata": {
        "id": "qXikiD4DprpR"
      },
      "source": [
        "###  Probabilidade de uma pessoa ter mais de 80 anos e salário maior que 50000.\n",
        "\n",
        "$$\n",
        "\\Pr(\\text{Age > 80}, \\text{Salary > 50000})\n",
        "$$"
      ]
    },
    {
      "cell_type": "code",
      "execution_count": 9,
      "metadata": {
        "colab": {
          "base_uri": "https://localhost:8080/"
        },
        "id": "_KnWEXQaprpR",
        "outputId": "1fb35fc5-7a26-4b2a-b25f-59e269735460"
      },
      "outputs": [
        {
          "name": "stdout",
          "output_type": "stream",
          "text": [
            "Probabilidade de uma pessoa ter mais de 80 anos e salario > 50000: 0.00042997542997542996\n"
          ]
        }
      ],
      "source": [
        "res = df[(df['income'] == '>50K') &\n",
        "               (df['age'] > 80)]\n",
        "tamanho_espaco_amostral = len(df)\n",
        "idadeMaior80 = len(res)\n",
        "print(f\"Probabilidade de uma pessoa ter mais de 80 anos e salario > 50000: {idadeMaior80/tamanho_espaco_amostral}\")"
      ]
    },
    {
      "cell_type": "markdown",
      "metadata": {
        "id": "CjahJAQzprpS"
      },
      "source": [
        "$$\n",
        "\\Pr(\\text{Workclass = State-gov}, \\text{Occupation = Adm-clerical}, \\text{Sex = Male})\n",
        "$$"
      ]
    },
    {
      "cell_type": "code",
      "execution_count": 10,
      "metadata": {
        "colab": {
          "base_uri": "https://localhost:8080/"
        },
        "id": "8ScwPtAiprpS",
        "outputId": "8604a092-e4f0-46f8-e367-1a3da549f8ea"
      },
      "outputs": [
        {
          "name": "stdout",
          "output_type": "stream",
          "text": [
            "Probabilidade: 0.002794840294840295\n"
          ]
        }
      ],
      "source": [
        "res = df[(df['workclass'] == 'State-gov') &\n",
        "               (df['occupation'] == 'Adm-clerical') &\n",
        "               (df['sex'] == \"Male\")]\n",
        "\n",
        "resultado = len(res)\n",
        "print(f\"Probabilidade: {resultado/tamanho_espaco_amostral}\")"
      ]
    },
    {
      "cell_type": "markdown",
      "metadata": {
        "id": "kffGkQ-oprpS"
      },
      "source": [
        "### Pr(Workclass = Self-emp-inc, Occupation = Exec-managerial, Sex = Male)"
      ]
    },
    {
      "cell_type": "code",
      "execution_count": 11,
      "metadata": {
        "colab": {
          "base_uri": "https://localhost:8080/"
        },
        "id": "Rj0Ybj9NprpS",
        "outputId": "a5b7d7d8-4946-486e-b769-9c6fd86fb702"
      },
      "outputs": [
        {
          "name": "stdout",
          "output_type": "stream",
          "text": [
            "Probabilidade: 0.010288697788697789\n"
          ]
        }
      ],
      "source": [
        "res = df[(df['workclass'] == 'Self-emp-not-inc') &\n",
        "               (df['occupation'] == 'Exec-managerial') &\n",
        "               (df['sex'] == \"Male\")]\n",
        "resultado = len(res)\n",
        "print(f\"Probabilidade: {resultado/tamanho_espaco_amostral}\")"
      ]
    },
    {
      "cell_type": "markdown",
      "metadata": {
        "id": "5aUeGKJKtoOQ"
      },
      "source": []
    },
    {
      "cell_type": "code",
      "execution_count": 12,
      "metadata": {
        "colab": {
          "base_uri": "https://localhost:8080/"
        },
        "id": "MQuJq8APk-bH",
        "outputId": "5ff7cf00-a006-4043-b119-cb9f7cc458ea"
      },
      "outputs": [
        {
          "data": {
            "text/plain": [
              "array(['<=50K', '>50K'], dtype=object)"
            ]
          },
          "execution_count": 12,
          "metadata": {},
          "output_type": "execute_result"
        }
      ],
      "source": [
        "df.income.unique()"
      ]
    },
    {
      "cell_type": "code",
      "execution_count": 13,
      "metadata": {
        "colab": {
          "base_uri": "https://localhost:8080/"
        },
        "id": "qRSBaYXl57Ib",
        "outputId": "b82b4970-aa3e-4d4b-edab-0a8d2f7cce3b"
      },
      "outputs": [
        {
          "data": {
            "text/plain": [
              "(32560, 15)"
            ]
          },
          "execution_count": 13,
          "metadata": {},
          "output_type": "execute_result"
        }
      ],
      "source": [
        "df.shape"
      ]
    },
    {
      "cell_type": "code",
      "execution_count": 14,
      "metadata": {
        "colab": {
          "base_uri": "https://localhost:8080/"
        },
        "id": "i_zoWia66GAt",
        "outputId": "3d7df954-de82-47c5-a3fa-e9ab0f72b012"
      },
      "outputs": [
        {
          "data": {
            "text/plain": [
              "(24719, 15)"
            ]
          },
          "execution_count": 14,
          "metadata": {},
          "output_type": "execute_result"
        }
      ],
      "source": [
        "df_temp = df[df.income == \"<=50K\"]\n",
        "df_temp.shape"
      ]
    },
    {
      "cell_type": "code",
      "execution_count": 15,
      "metadata": {
        "colab": {
          "base_uri": "https://localhost:8080/"
        },
        "id": "bNWBNAh06k52",
        "outputId": "b18f2fae-1503-40eb-fcee-9f11fd3d23e4"
      },
      "outputs": [
        {
          "data": {
            "text/plain": [
              "0.7591830466830467"
            ]
          },
          "execution_count": 15,
          "metadata": {},
          "output_type": "execute_result"
        }
      ],
      "source": [
        "df_temp.shape[0]/df.shape[0]"
      ]
    },
    {
      "cell_type": "code",
      "execution_count": 16,
      "metadata": {},
      "outputs": [],
      "source": [
        "import sklearn\n",
        "from sklearn.model_selection import train_test_split\n",
        "from sklearn.preprocessing import LabelEncoder"
      ]
    },
    {
      "cell_type": "code",
      "execution_count": 17,
      "metadata": {
        "colab": {
          "base_uri": "https://localhost:8080/"
        },
        "id": "m2MFj94qtyTI",
        "outputId": "33f9fb1d-e18b-4bd4-99c0-ecd1c7f092e8"
      },
      "outputs": [
        {
          "name": "stdout",
          "output_type": "stream",
          "text": [
            "['<=50K', '>50K']\n"
          ]
        }
      ],
      "source": [
        "X = df.drop('income', axis=1)\n",
        "y = df.income\n",
        "\n",
        "le = LabelEncoder()\n",
        "le.fit(['<=50K', '>50K'])\n",
        "print(list(le.classes_))\n",
        "le.transform(y)\n",
        "\n",
        "X_train, X_test, y_train, y_test = train_test_split(X,\n",
        "                                                    y,\n",
        "                                                    test_size=0.20,\n",
        "                                                    random_state=0,\n",
        "                                                    stratify=y)"
      ]
    },
    {
      "cell_type": "code",
      "execution_count": 18,
      "metadata": {
        "colab": {
          "base_uri": "https://localhost:8080/"
        },
        "id": "2doRlV59mEc2",
        "outputId": "e2652edd-0096-4d0a-b819-09bb672e29bc"
      },
      "outputs": [
        {
          "data": {
            "text/plain": [
              "((32560, 14), (32560,), (26048, 14), (26048,), (6512, 14), (6512,))"
            ]
          },
          "execution_count": 18,
          "metadata": {},
          "output_type": "execute_result"
        }
      ],
      "source": [
        "X.shape, y.shape, X_train.shape, y_train.shape, X_test.shape, y_test.shape"
      ]
    },
    {
      "cell_type": "code",
      "execution_count": 19,
      "metadata": {
        "colab": {
          "base_uri": "https://localhost:8080/"
        },
        "id": "wn86OD0hmexJ",
        "outputId": "464f1fc5-254b-44af-ee0c-b277c3a6586d"
      },
      "outputs": [
        {
          "data": {
            "text/plain": [
              "0     <=50K\n",
              "1     <=50K\n",
              "2     <=50K\n",
              "3     <=50K\n",
              "4     <=50K\n",
              "5     <=50K\n",
              "6      >50K\n",
              "7      >50K\n",
              "8      >50K\n",
              "9      >50K\n",
              "10     >50K\n",
              "11    <=50K\n",
              "12    <=50K\n",
              "13     >50K\n",
              "14    <=50K\n",
              "15    <=50K\n",
              "16    <=50K\n",
              "17    <=50K\n",
              "18     >50K\n",
              "19     >50K\n",
              "Name: income, dtype: object"
            ]
          },
          "execution_count": 19,
          "metadata": {},
          "output_type": "execute_result"
        }
      ],
      "source": [
        "y[:20]"
      ]
    },
    {
      "cell_type": "code",
      "execution_count": 20,
      "metadata": {
        "colab": {
          "base_uri": "https://localhost:8080/",
          "height": 206
        },
        "id": "f_1HqCcsmlOM",
        "outputId": "87fd5279-a443-4081-95f1-5082d29db8ca"
      },
      "outputs": [
        {
          "data": {
            "text/html": [
              "<div>\n",
              "<style scoped>\n",
              "    .dataframe tbody tr th:only-of-type {\n",
              "        vertical-align: middle;\n",
              "    }\n",
              "\n",
              "    .dataframe tbody tr th {\n",
              "        vertical-align: top;\n",
              "    }\n",
              "\n",
              "    .dataframe thead th {\n",
              "        text-align: right;\n",
              "    }\n",
              "</style>\n",
              "<table border=\"1\" class=\"dataframe\">\n",
              "  <thead>\n",
              "    <tr style=\"text-align: right;\">\n",
              "      <th></th>\n",
              "      <th>age</th>\n",
              "      <th>workclass</th>\n",
              "      <th>finalweight</th>\n",
              "      <th>education</th>\n",
              "      <th>education-num</th>\n",
              "      <th>martial-status</th>\n",
              "      <th>occupation</th>\n",
              "      <th>relationship</th>\n",
              "      <th>race</th>\n",
              "      <th>sex</th>\n",
              "      <th>capital-gain</th>\n",
              "      <th>capital-loss</th>\n",
              "      <th>hours-per-week</th>\n",
              "      <th>native-country</th>\n",
              "    </tr>\n",
              "  </thead>\n",
              "  <tbody>\n",
              "    <tr>\n",
              "      <th>29101</th>\n",
              "      <td>36</td>\n",
              "      <td>Private</td>\n",
              "      <td>109133</td>\n",
              "      <td>Some-college</td>\n",
              "      <td>10</td>\n",
              "      <td>Never-married</td>\n",
              "      <td>Exec-managerial</td>\n",
              "      <td>Not-in-family</td>\n",
              "      <td>White</td>\n",
              "      <td>Male</td>\n",
              "      <td>0</td>\n",
              "      <td>0</td>\n",
              "      <td>40</td>\n",
              "      <td>United-States</td>\n",
              "    </tr>\n",
              "    <tr>\n",
              "      <th>10606</th>\n",
              "      <td>25</td>\n",
              "      <td>Private</td>\n",
              "      <td>204219</td>\n",
              "      <td>HS-grad</td>\n",
              "      <td>9</td>\n",
              "      <td>Never-married</td>\n",
              "      <td>Adm-clerical</td>\n",
              "      <td>Unmarried</td>\n",
              "      <td>White</td>\n",
              "      <td>Female</td>\n",
              "      <td>0</td>\n",
              "      <td>0</td>\n",
              "      <td>40</td>\n",
              "      <td>Mexico</td>\n",
              "    </tr>\n",
              "    <tr>\n",
              "      <th>9414</th>\n",
              "      <td>26</td>\n",
              "      <td>Self-emp-not-inc</td>\n",
              "      <td>318644</td>\n",
              "      <td>Prof-school</td>\n",
              "      <td>15</td>\n",
              "      <td>Never-married</td>\n",
              "      <td>Prof-specialty</td>\n",
              "      <td>Own-child</td>\n",
              "      <td>White</td>\n",
              "      <td>Male</td>\n",
              "      <td>0</td>\n",
              "      <td>0</td>\n",
              "      <td>20</td>\n",
              "      <td>United-States</td>\n",
              "    </tr>\n",
              "    <tr>\n",
              "      <th>1747</th>\n",
              "      <td>27</td>\n",
              "      <td>Private</td>\n",
              "      <td>219371</td>\n",
              "      <td>HS-grad</td>\n",
              "      <td>9</td>\n",
              "      <td>Never-married</td>\n",
              "      <td>Other-service</td>\n",
              "      <td>Not-in-family</td>\n",
              "      <td>White</td>\n",
              "      <td>Female</td>\n",
              "      <td>0</td>\n",
              "      <td>0</td>\n",
              "      <td>35</td>\n",
              "      <td>United-States</td>\n",
              "    </tr>\n",
              "    <tr>\n",
              "      <th>10677</th>\n",
              "      <td>42</td>\n",
              "      <td>Self-emp-not-inc</td>\n",
              "      <td>444134</td>\n",
              "      <td>HS-grad</td>\n",
              "      <td>9</td>\n",
              "      <td>Married-civ-spouse</td>\n",
              "      <td>Farming-fishing</td>\n",
              "      <td>Husband</td>\n",
              "      <td>White</td>\n",
              "      <td>Male</td>\n",
              "      <td>0</td>\n",
              "      <td>0</td>\n",
              "      <td>15</td>\n",
              "      <td>United-States</td>\n",
              "    </tr>\n",
              "  </tbody>\n",
              "</table>\n",
              "</div>"
            ],
            "text/plain": [
              "       age         workclass  finalweight     education  education-num  \\\n",
              "29101   36           Private       109133  Some-college             10   \n",
              "10606   25           Private       204219       HS-grad              9   \n",
              "9414    26  Self-emp-not-inc       318644   Prof-school             15   \n",
              "1747    27           Private       219371       HS-grad              9   \n",
              "10677   42  Self-emp-not-inc       444134       HS-grad              9   \n",
              "\n",
              "           martial-status       occupation   relationship   race     sex  \\\n",
              "29101       Never-married  Exec-managerial  Not-in-family  White    Male   \n",
              "10606       Never-married     Adm-clerical      Unmarried  White  Female   \n",
              "9414        Never-married   Prof-specialty      Own-child  White    Male   \n",
              "1747        Never-married    Other-service  Not-in-family  White  Female   \n",
              "10677  Married-civ-spouse  Farming-fishing        Husband  White    Male   \n",
              "\n",
              "       capital-gain  capital-loss  hours-per-week  native-country  \n",
              "29101             0             0               40  United-States  \n",
              "10606             0             0               40         Mexico  \n",
              "9414              0             0               20  United-States  \n",
              "1747              0             0               35  United-States  \n",
              "10677             0             0               15  United-States  "
            ]
          },
          "execution_count": 20,
          "metadata": {},
          "output_type": "execute_result"
        }
      ],
      "source": [
        "X_train[:5]"
      ]
    },
    {
      "cell_type": "code",
      "execution_count": 21,
      "metadata": {
        "colab": {
          "base_uri": "https://localhost:8080/"
        },
        "id": "e5Ud6Y1vm4z-",
        "outputId": "265d5b87-8f1b-4ee7-fa33-96ce6b774091"
      },
      "outputs": [
        {
          "data": {
            "text/plain": [
              "0    <=50K\n",
              "1    <=50K\n",
              "2    <=50K\n",
              "3    <=50K\n",
              "4    <=50K\n",
              "Name: income, dtype: object"
            ]
          },
          "execution_count": 21,
          "metadata": {},
          "output_type": "execute_result"
        }
      ],
      "source": [
        "y[:5]"
      ]
    },
    {
      "cell_type": "code",
      "execution_count": 22,
      "metadata": {
        "colab": {
          "base_uri": "https://localhost:8080/"
        },
        "id": "57huPFLImtnL",
        "outputId": "b5911d89-63b0-4442-b399-b205e04c3b76"
      },
      "outputs": [
        {
          "data": {
            "text/plain": [
              "29101    <=50K\n",
              "10606    <=50K\n",
              "9414     <=50K\n",
              "1747     <=50K\n",
              "10677    <=50K\n",
              "Name: income, dtype: object"
            ]
          },
          "execution_count": 22,
          "metadata": {},
          "output_type": "execute_result"
        }
      ],
      "source": [
        "y_train[:5]"
      ]
    },
    {
      "cell_type": "code",
      "execution_count": 23,
      "metadata": {
        "colab": {
          "base_uri": "https://localhost:8080/"
        },
        "id": "KLZIa7SGmQnM",
        "outputId": "e2f95f9c-5182-4208-ce4b-acb66216b8ae"
      },
      "outputs": [
        {
          "data": {
            "text/plain": [
              "['<=50K', '<=50K', '>50K']"
            ]
          },
          "execution_count": 23,
          "metadata": {},
          "output_type": "execute_result"
        }
      ],
      "source": [
        "list(le.inverse_transform([0, 0, 1]))"
      ]
    },
    {
      "cell_type": "markdown",
      "metadata": {},
      "source": [
        "<h3>Laplace smoothed probability</h3>"
      ]
    },
    {
      "cell_type": "code",
      "execution_count": 24,
      "metadata": {},
      "outputs": [],
      "source": [
        "def laplace_smoothed_probability(q_j, q_i_j, num_values_target, smoothing_parameter=1):\n",
        "  \"\"\"\n",
        "  This function calculates the Laplace-smoothed estimate of a probability.\n",
        "\n",
        "  Args:\n",
        "      q_j (int): The total number of examples associated to target c_j.\n",
        "      q_i_j (int): The total number of examples associated to target c_j, and that have a particular value for predictor x_i.\n",
        "      num_values_target: number of values the target can assume.\n",
        "      smoothing_parameter (int, optional): The smoothing parameter (default 1).\n",
        "\n",
        "  Returns:\n",
        "      float: The Laplace-smoothed probability estimate.\n",
        "  \"\"\"\n",
        "  return (q_i_j + smoothing_parameter) / (q_j + smoothing_parameter * num_values_target)\n"
      ]
    },
    {
      "cell_type": "markdown",
      "metadata": {},
      "source": [
        "### Naive Bayes Classifier"
      ]
    },
    {
      "cell_type": "code",
      "execution_count": 25,
      "metadata": {},
      "outputs": [],
      "source": [
        "import pandas as pd\n",
        "\n",
        "class NaiveBayesClassifier:\n",
        "  \"\"\"\n",
        "  A class implementing the Naive Bayes Classifier algorithm.\n",
        "  \"\"\"\n",
        "\n",
        "  def __init__(self, smoothing_parameter: int=1):\n",
        "    \"\"\"\n",
        "    Initializes the classifier with a smoothing parameter for Laplace Smoothing.\n",
        "\n",
        "    Args:\n",
        "        smoothing_parameter (int, optional): The smoothing parameter (default 1).\n",
        "    \"\"\"\n",
        "    #chaves\n",
        "    self.labels = None\n",
        "    self.smoothing_parameter = smoothing_parameter\n",
        "    self.classes_ = None\n",
        "    self.feature_counts_ :dict = None  # Dictionary to store feature counts\n",
        "\n",
        "  def fit(self, X: pd.DataFrame, y: pd.Series):\n",
        "    \"\"\"\n",
        "    Fits the classifier to the training data.\n",
        "\n",
        "    Args:\n",
        "        X (pd.DataFrame): The training data features.\n",
        "        y (pd.Series): The training data labels.\n",
        "    \"\"\"\n",
        "    self.classes_ = np.unique(y)\n",
        "    self.feature_counts_ = self._calculate_feature_counts(X, y)\n",
        "    self.labels = X.columns\n",
        "\n",
        "\n",
        "  def predict(self, X: pd.DataFrame):\n",
        "    \"\"\"\n",
        "    Predicts the class labels for new data points.\n",
        "\n",
        "    Args:\n",
        "        X (pd.DataFrame): The data points to predict labels for.\n",
        "\n",
        "    Returns:\n",
        "        numpy.ndarray: The predicted class labels for each data point.\n",
        "    \"\"\"\n",
        "    if self.classes_ is None:\n",
        "      raise ValueError(\"Model not fitted yet. Call fit(X, y) first.\")\n",
        "    return np.apply_along_axis(self._predict_proba, axis=1, arr=X.values).argmax(axis=1)\n",
        "\n",
        "  def predict_proba(self, X: pd.DataFrame):\n",
        "    \"\"\"\n",
        "    Predicts the class probabilities for new data points.\n",
        "\n",
        "    Args:\n",
        "        X (pd.DataFrame): The data points to predict class probabilities for.\n",
        "\n",
        "    Returns:\n",
        "        numpy.ndarray: The predicted class probabilities for each data point.\n",
        "    \"\"\"\n",
        "    if self.classes_ is None:\n",
        "      raise ValueError(\"Model not fitted yet. Call fit(X, y) first.\")\n",
        "    return np.apply_along_axis(self._predict_proba, axis=1, arr=X)\n",
        "\n",
        "  def _calculate_feature_counts(self, X, y):\n",
        "    \"\"\"\n",
        "    Calculates the counts of features for each class using Laplace Smoothing.\n",
        "\n",
        "    Args:\n",
        "        X (pd.DataFrame): The training data features.\n",
        "        y (pd.Series): The training data labels.\n",
        "\n",
        "    Returns:\n",
        "        dict: A dictionary containing feature counts for each class.\n",
        "    \"\"\"\n",
        "    ##########################################################################\n",
        "    # YOUR CODE HERE\n",
        "    # ... (Implementation of counting features)\n",
        "    ##########################################################################\n",
        "\n",
        "  #inicializa feature counts\n",
        "    feature_counts = {}\n",
        "    for attr in X.columns:\n",
        "        feature_counts[attr] = {}\n",
        "\n",
        "    # conta as ocorrencias de cada valor de atributo para cada classe\n",
        "    for i in range(len(X)):\n",
        "        label = y.iloc[i]\n",
        "        row = X.iloc[i]\n",
        "        for attr, value in row.items():\n",
        "            if value not in feature_counts[attr]:\n",
        "                feature_counts[attr][value] = {c: 0 for c in self.classes_}\n",
        "            feature_counts[attr][value][label] += 1\n",
        "\n",
        "    # for x in feature_counts:\n",
        "    #   print(repr(x),\":\", feature_counts[x])\n",
        "\n",
        "    return feature_counts\n",
        "\n",
        "\n",
        "  def _predict_proba(self, x):\n",
        "    \"\"\"\n",
        "    Calculates the class probabilities for a single data point using Bayes' theorem.\n",
        "\n",
        "    Args:\n",
        "        x (numpy.ndarray): A single data point.\n",
        "\n",
        "    Returns:\n",
        "        numpy.ndarray: The class probabilities for the data point.\n",
        "    \"\"\"\n",
        "    ##########################################################################\n",
        "    # YOUR CODE HERE\n",
        "    # ... (Implementation of Naive Bayes probability calculation with Laplace smoothing)\n",
        "    ##########################################################################\n",
        "    class_probs = {}\n",
        "    num_classes = len(self.classes_)\n",
        "    for i in range(self.labels.size):\n",
        "\n",
        "        prob_arr = []\n",
        "        label = self.labels[i]\n",
        "        if label in self.feature_counts_ and x[i] in self.feature_counts_[label]:\n",
        "            q_j = 0\n",
        "            for cla in self.classes_:\n",
        "               q_j += self.feature_counts_[label][x[i]][ cla ]\n",
        "            #q_j += self.feature_counts_[label][x[i]][ '<=50K' ] + self.feature_counts_[label][x[i]][ '>50K' ]\n",
        "            # se o valor do atributo para a classe atual existir no dicionario de contagem de recursos\n",
        "\n",
        "            for cla in self.classes_:\n",
        "                q_i_j = self.feature_counts_[label][x[i]][ cla ]\n",
        "                prob_arr.append(laplace_smoothed_probability(q_j, q_i_j, num_classes, 1))\n",
        "\n",
        "            class_probs[label] = prob_arr\n",
        "        else:\n",
        "            # se o valor do atributo para a classe atual nao existir no dicionario de contagem de recursos,\n",
        "            # atribuir probabilidades iguais para todas as classes\n",
        "            prob_arr = np.ones(num_classes) / num_classes\n",
        "            class_probs[label] = prob_arr\n",
        "\n",
        "    res_arr = [1, 1]\n",
        "    for attr in self.labels:\n",
        "       res_arr[0] *= class_probs[attr][0]\n",
        "       res_arr[1] *= class_probs[attr][1]\n",
        "\n",
        "\n",
        "    return np.array(res_arr)\n",
        "\n"
      ]
    },
    {
      "cell_type": "code",
      "execution_count": 26,
      "metadata": {},
      "outputs": [],
      "source": [
        "nb = NaiveBayesClassifier()\n",
        "nb.fit(X_train, y_train)\n",
        "res = nb.predict(X_test)\n",
        "predicted = []\n",
        "\n",
        "for p in res:\n",
        "    if p == 1:\n",
        "        predicted.append(\">50K\")\n",
        "    else:\n",
        "        predicted.append(\"<=50K\")\n",
        "predicted = np.array(predicted)\n"
      ]
    },
    {
      "cell_type": "markdown",
      "metadata": {},
      "source": [
        "<h3>Teste</h3>"
      ]
    },
    {
      "cell_type": "code",
      "execution_count": 27,
      "metadata": {},
      "outputs": [
        {
          "name": "stdout",
          "output_type": "stream",
          "text": [
            "Acurácia: 0.7642813267813268\n"
          ]
        }
      ],
      "source": [
        "from sklearn.metrics import accuracy_score\n",
        "\n",
        "# Calcula a acurácia\n",
        "accuracy = accuracy_score(y_test.values, predicted)\n",
        "\n",
        "# Imprime a acurácia\n",
        "print(\"Acurácia:\", accuracy)\n"
      ]
    },
    {
      "cell_type": "markdown",
      "metadata": {
        "id": "t2cM-Cw2nM2S"
      },
      "source": [
        "# Referências\n",
        "\n",
        "- [LabelEncoder](https://scikit-learn.org/stable/modules/generated/sklearn.preprocessing.LabelEncoder.html)\n",
        "\n",
        "- [train_test_split](https://scikit-learn.org/stable/modules/generated/sklearn.model_selection.train_test_split.html)\n"
      ]
    }
  ],
  "metadata": {
    "colab": {
      "provenance": []
    },
    "interpreter": {
      "hash": "4b7cd07f285137c14584d98fccf3c22b409acc8abb60b6a62d5f0e2a0dc997c5"
    },
    "kernelspec": {
      "display_name": "Python 3",
      "language": "python",
      "name": "python3"
    },
    "language_info": {
      "codemirror_mode": {
        "name": "ipython",
        "version": 3
      },
      "file_extension": ".py",
      "mimetype": "text/x-python",
      "name": "python",
      "nbconvert_exporter": "python",
      "pygments_lexer": "ipython3",
      "version": "3.12.0"
    },
    "toc-autonumbering": true
  },
  "nbformat": 4,
  "nbformat_minor": 0
}
